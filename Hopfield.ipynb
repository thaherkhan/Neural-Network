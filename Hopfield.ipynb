{
 "cells": [
  {
   "cell_type": "markdown",
   "metadata": {},
   "source": [
    "## Hopfield\n",
    "\n",
    "$$ dw=x.x^T -I \\space \\space \\\\ where \\space \\space I =\\space identity \\space matrix.$$  \n",
    "$$w=w+dw$$\n",
    "\n",
    "<b>Energy</b>\n",
    "$$E=\\frac{−1}{2} \\sum_{j=1}^n  \\sum_{i=1}^n w_{ij}x_i x_j$$\n",
    "\n",
    "In terms of linear algebra, simpler version is \n",
    "$$E = -\\frac{1}{2} x^T.W.x$$"
   ]
  },
  {
   "cell_type": "code",
   "execution_count": 1,
   "metadata": {},
   "outputs": [],
   "source": [
    "import numpy as np  \n",
    "import matplotlib.pyplot as plt\n",
    "import random"
   ]
  },
  {
   "cell_type": "code",
   "execution_count": 2,
   "metadata": {},
   "outputs": [],
   "source": [
    "#Neurons=9\n",
    "N=9"
   ]
  },
  {
   "cell_type": "code",
   "execution_count": 3,
   "metadata": {},
   "outputs": [],
   "source": [
    "x1=np.array([1,1,1, 0,0,0, 0,0,0])\n",
    "x2=np.array([0,0,0, 0,0,0, 1,1,1])\n",
    "x3=np.array([0,0,0, 1,1,1, 0,0,0])"
   ]
  },
  {
   "cell_type": "code",
   "execution_count": 4,
   "metadata": {},
   "outputs": [
    {
     "name": "stdout",
     "output_type": "stream",
     "text": [
      "[[0. 0. 0. 0. 0. 0. 0. 0. 0.]\n",
      " [0. 0. 0. 0. 0. 0. 0. 0. 0.]\n",
      " [0. 0. 0. 0. 0. 0. 0. 0. 0.]\n",
      " [0. 0. 0. 0. 0. 0. 0. 0. 0.]\n",
      " [0. 0. 0. 0. 0. 0. 0. 0. 0.]\n",
      " [0. 0. 0. 0. 0. 0. 0. 0. 0.]\n",
      " [0. 0. 0. 0. 0. 0. 0. 0. 0.]\n",
      " [0. 0. 0. 0. 0. 0. 0. 0. 0.]\n",
      " [0. 0. 0. 0. 0. 0. 0. 0. 0.]]\n"
     ]
    }
   ],
   "source": [
    "w=np.zeros((N,N))\n",
    "print(w)"
   ]
  },
  {
   "cell_type": "markdown",
   "metadata": {},
   "source": [
    "<b>First Task : Train x1</b></b>\n",
    "Train x1 and update w and calculate energy.<br>\n",
    "<b>updated w</b> should look like the following. <br>\n",
    "       [ 0.,  1.,  1., -1., -1., -1., -1., -1., -1.],<br>\n",
    "       [ 1.,  0.,  1., -1., -1., -1., -1., -1., -1.],<br>\n",
    "       [ 1.,  1.,  0., -1., -1., -1., -1., -1., -1.],<br>\n",
    "       [-1., -1., -1.,  0.,  1.,  1.,  1.,  1.,  1.],<br>\n",
    "       [-1., -1., -1.,  1.,  0.,  1.,  1.,  1.,  1.],<br>\n",
    "       [-1., -1., -1.,  1.,  1.,  0.,  1.,  1.,  1.],<br>\n",
    "       [-1., -1., -1.,  1.,  1.,  1.,  0.,  1.,  1.],<br>\n",
    "       [-1., -1., -1.,  1.,  1.,  1.,  1.,  0.,  1.],<br>\n",
    "       [-1., -1., -1.,  1.,  1.,  1.,  1.,  1.,  0.]]<br>\n",
    "       \n",
    "energy should be=-36"
   ]
  },
  {
   "cell_type": "code",
   "execution_count": 5,
   "metadata": {},
   "outputs": [],
   "source": [
    "x1[x1==0]=-1\n",
    "\n",
    "x2[x2==0]=-1\n",
    "\n",
    "x3[x3==0]=-1"
   ]
  },
  {
   "cell_type": "code",
   "execution_count": 6,
   "metadata": {},
   "outputs": [],
   "source": [
    "\n",
    "def cal_w(w,x):\n",
    "    X=np.zeros((N,N))\n",
    "    for i in range(len(x)):\n",
    "        for j in range(len(x)):\n",
    "            X[i][j]=x[i]*x[j]\n",
    "\n",
    "    Identity=np.identity(N)\n",
    "    X=np.subtract(X,Identity)\n",
    "    return X"
   ]
  },
  {
   "cell_type": "code",
   "execution_count": 7,
   "metadata": {},
   "outputs": [
    {
     "name": "stdout",
     "output_type": "stream",
     "text": [
      "[[ 0.  1.  1. -1. -1. -1. -1. -1. -1.]\n",
      " [ 1.  0.  1. -1. -1. -1. -1. -1. -1.]\n",
      " [ 1.  1.  0. -1. -1. -1. -1. -1. -1.]\n",
      " [-1. -1. -1.  0.  1.  1.  1.  1.  1.]\n",
      " [-1. -1. -1.  1.  0.  1.  1.  1.  1.]\n",
      " [-1. -1. -1.  1.  1.  0.  1.  1.  1.]\n",
      " [-1. -1. -1.  1.  1.  1.  0.  1.  1.]\n",
      " [-1. -1. -1.  1.  1.  1.  1.  0.  1.]\n",
      " [-1. -1. -1.  1.  1.  1.  1.  1.  0.]]\n"
     ]
    }
   ],
   "source": [
    "dw=cal_w(w,x1)\n",
    "w=np.add(dw,w)\n",
    "print(dw)"
   ]
  },
  {
   "cell_type": "code",
   "execution_count": 8,
   "metadata": {},
   "outputs": [
    {
     "name": "stdout",
     "output_type": "stream",
     "text": [
      "Energy:  -36.0\n"
     ]
    }
   ],
   "source": [
    "E1 = np.dot(dw,x1.T)\n",
    "E2 = np.dot(x1,E1)\n",
    "Energy = -0.5*E2\n",
    "print('Energy: ',Energy)"
   ]
  },
  {
   "cell_type": "markdown",
   "metadata": {},
   "source": [
    "<b>Second Task : Train x2</b>\n",
    "Train x2 and update w and calculate energy.<br>"
   ]
  },
  {
   "cell_type": "code",
   "execution_count": 9,
   "metadata": {},
   "outputs": [
    {
     "name": "stdout",
     "output_type": "stream",
     "text": [
      "[[ 0.  1.  1.  1.  1.  1. -1. -1. -1.]\n",
      " [ 1.  0.  1.  1.  1.  1. -1. -1. -1.]\n",
      " [ 1.  1.  0.  1.  1.  1. -1. -1. -1.]\n",
      " [ 1.  1.  1.  0.  1.  1. -1. -1. -1.]\n",
      " [ 1.  1.  1.  1.  0.  1. -1. -1. -1.]\n",
      " [ 1.  1.  1.  1.  1.  0. -1. -1. -1.]\n",
      " [-1. -1. -1. -1. -1. -1.  0.  1.  1.]\n",
      " [-1. -1. -1. -1. -1. -1.  1.  0.  1.]\n",
      " [-1. -1. -1. -1. -1. -1.  1.  1.  0.]]\n"
     ]
    }
   ],
   "source": [
    "\n",
    "dw=cal_w(w,x2)\n",
    "w=np.add(dw,w)\n",
    "print(dw)"
   ]
  },
  {
   "cell_type": "code",
   "execution_count": 10,
   "metadata": {},
   "outputs": [
    {
     "name": "stdout",
     "output_type": "stream",
     "text": [
      "Energy:  -36.0\n"
     ]
    }
   ],
   "source": [
    "E1 = np.dot(dw,x2.T)\n",
    "E2 = np.dot(x2,E1)\n",
    "Energy = -0.5*E2\n",
    "print('Energy: ',Energy)"
   ]
  },
  {
   "cell_type": "markdown",
   "metadata": {},
   "source": [
    "<b>Third Task : Train x3</b>\n",
    "Train x3 and update w and calculate energy.<br>"
   ]
  },
  {
   "cell_type": "code",
   "execution_count": 11,
   "metadata": {},
   "outputs": [
    {
     "name": "stdout",
     "output_type": "stream",
     "text": [
      "[[ 0.  1.  1. -1. -1. -1.  1.  1.  1.]\n",
      " [ 1.  0.  1. -1. -1. -1.  1.  1.  1.]\n",
      " [ 1.  1.  0. -1. -1. -1.  1.  1.  1.]\n",
      " [-1. -1. -1.  0.  1.  1. -1. -1. -1.]\n",
      " [-1. -1. -1.  1.  0.  1. -1. -1. -1.]\n",
      " [-1. -1. -1.  1.  1.  0. -1. -1. -1.]\n",
      " [ 1.  1.  1. -1. -1. -1.  0.  1.  1.]\n",
      " [ 1.  1.  1. -1. -1. -1.  1.  0.  1.]\n",
      " [ 1.  1.  1. -1. -1. -1.  1.  1.  0.]]\n"
     ]
    }
   ],
   "source": [
    "dw=cal_w(w,x3)\n",
    "w=np.add(dw,w)\n",
    "print(dw)"
   ]
  },
  {
   "cell_type": "code",
   "execution_count": 12,
   "metadata": {},
   "outputs": [
    {
     "name": "stdout",
     "output_type": "stream",
     "text": [
      "Energy:  -36.0\n"
     ]
    }
   ],
   "source": [
    "E1 = np.dot(dw,x3.T)\n",
    "E2 = np.dot(x3,E1)\n",
    "Energy = -0.5*E2\n",
    "print('Energy: ',Energy)"
   ]
  },
  {
   "cell_type": "markdown",
   "metadata": {},
   "source": [
    "<b>Fourth Task : Asynchronous recovery</b> <br>\n",
    "tx=np.array([0,0,0, 1,0,0, 0,0,0])  <br>\n",
    "\n",
    "1. choose i randomly\n",
    "2. update ith element of partial pattern tx \n",
    "3. Repeat step 2 for some time.\n",
    "\n",
    "$$x_i=sign(w_i.x)$$\n",
    "\n",
    "It should converge to a known pattern <br>[0, 0, 0, 1, 1, 1, 0, 0, 0]"
   ]
  },
  {
   "cell_type": "code",
   "execution_count": 13,
   "metadata": {},
   "outputs": [],
   "source": [
    "def sign(val):\n",
    "    if(val<0):\n",
    "        return -1\n",
    "    else:\n",
    "        return 1"
   ]
  },
  {
   "cell_type": "code",
   "execution_count": 14,
   "metadata": {},
   "outputs": [
    {
     "name": "stdout",
     "output_type": "stream",
     "text": [
      "[1 1 1 1 1 1 0 0 0]\n"
     ]
    }
   ],
   "source": [
    "tx=np.array([0,0,0, 1,0,0, 0,0,0])\n",
    "\n",
    "for i in range(100000):\n",
    "    rnd=random.randint(0, 8)\n",
    "    tx[rnd]=sign(np.dot(w[rnd],tx))\n",
    "\n",
    "for i in range(len(tx)):\n",
    "    if(tx[i]==-1):\n",
    "        tx[i]=0\n",
    "print(tx)"
   ]
  },
  {
   "cell_type": "code",
   "execution_count": null,
   "metadata": {},
   "outputs": [],
   "source": []
  }
 ],
 "metadata": {
  "kernelspec": {
   "display_name": "Python 3",
   "language": "python",
   "name": "python3"
  },
  "language_info": {
   "codemirror_mode": {
    "name": "ipython",
    "version": 3
   },
   "file_extension": ".py",
   "mimetype": "text/x-python",
   "name": "python",
   "nbconvert_exporter": "python",
   "pygments_lexer": "ipython3",
   "version": "3.7.7"
  }
 },
 "nbformat": 4,
 "nbformat_minor": 4
}

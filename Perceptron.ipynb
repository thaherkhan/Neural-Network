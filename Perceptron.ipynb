{
 "cells": [
  {
   "cell_type": "markdown",
   "metadata": {},
   "source": [
    "### Perceptron \n",
    "<b></b>\n",
    "Perceptron is the first neural network model that can learn from data, invented in 1958 at the Cornell Aeronautical Laboratory by Frank Rosenblatt. \n",
    "\n",
    "* Linear classifier.\n",
    "* Binary or bipolar data\n",
    "\\begin{equation}\n",
    "  \\hat y=\n",
    "  \\begin{cases}\n",
    "    1, &  \\sum_{i}^{m} w_i.x_i+b> 0  \\\\\n",
    "    -1, & \\text{otherwise}\n",
    "  \\end{cases}\n",
    "\\end{equation}\n",
    "\n",
    "Or, we can write [for a single data vector= x, weight vector=w and bias=b]\n",
    "\\begin{equation}\n",
    "  z=x.w+b\\\\\n",
    "  \\hat y=sign(z)\n",
    "\\end{equation}\n",
    "\n",
    "Or, we can simplify,\n",
    "\\begin{equation}\n",
    "  z=X.W^T\\\\\n",
    "  \\hat y=sign(z)\n",
    "\\end{equation}\n",
    "where X=data (NxD), W=weight vector(1xD) , b=bias(1x1)"
   ]
  },
  {
   "cell_type": "code",
   "execution_count": 1,
   "metadata": {},
   "outputs": [],
   "source": [
    "import numpy as np\n",
    "import matplotlib.pyplot as plt"
   ]
  },
  {
   "cell_type": "code",
   "execution_count": 2,
   "metadata": {},
   "outputs": [],
   "source": [
    "X=np.array([[8, 7], [4, 10], [9, 7], [7, 10], [9, 6], [4, 8], [10, 10], [2, 7], [8, 3], [7, 5], [4, 4],  [4, 6], [1, 3], [2, 5]])\n",
    "y=np.array([1, 1, 1, 1, 1, 1, 1, -1, -1, -1, -1, -1, -1, -1])"
   ]
  },
  {
   "cell_type": "code",
   "execution_count": 3,
   "metadata": {},
   "outputs": [
    {
     "data": {
      "image/png": "[encoded data removed]",
      "text/plain": [
       "<Figure size 432x288 with 1 Axes>"
      ]
     },
     "metadata": {
      "needs_background": "light"
     },
     "output_type": "display_data"
    }
   ],
   "source": [
    "plt.scatter(X[:,0],X[:, 1],marker='o', c=y, cmap='jet')   \n",
    "plt.show()"
   ]
  },
  {
   "cell_type": "markdown",
   "metadata": {},
   "source": [
    "<b>First Task: calculate output and plot the data</b><br>\n",
    "Given, w=[-2.0, 0.4, 0.1], calculate output $\\hat y$ <br> <b>note:</b> w[0]=bias<br>\n",
    " \n",
    "* Output should be, $\\hat y=[1, 1, 1, 1, 1, 1, 1, -1, 1, 1, -1, 1, -1, -1]$\n",
    "* Note: variable XX contains 1 in the first column and the rest is same as X. This will remove the necessity of useing seperate bias."
   ]
  },
  {
   "cell_type": "markdown",
   "metadata": {},
   "source": [
    "XX=np.c_[np.ones(X.shape[0]), X]  #add column with value 1 in the first column. to remove the need of separate bias\n",
    "print(XX[:4])"
   ]
  },
  {
   "cell_type": "code",
   "execution_count": 5,
   "metadata": {},
   "outputs": [
    {
     "name": "stdout",
     "output_type": "stream",
     "text": [
      "[1, 1, 1, 1, 1, 1, 1, -1, 1, 1, 1, 1, -1, -1]\n"
     ]
    }
   ],
   "source": [
    "y_head = []\n",
    "w = np.array([-2.0, 0.4, 0.1])\n",
    "\n",
    "for i in range(0,len(XX)):\n",
    "    if( np.dot(XX[i],w) > 0):\n",
    "        y_head.append(1)\n",
    "    else:\n",
    "        y_head.append(-1)\n",
    "\n",
    "print(y_head)"
   ]
  },
  {
   "cell_type": "markdown",
   "metadata": {},
   "source": [
    "<b> Plotting the hyperplane</b>"
   ]
  },
  {
   "cell_type": "code",
   "execution_count": 7,
   "metadata": {},
   "outputs": [
    {
     "data": {
      "image/png": "[encoded data removed]",
      "text/plain": [
       "<Figure size 432x288 with 1 Axes>"
      ]
     },
     "metadata": {
      "needs_background": "light"
     },
     "output_type": "display_data"
    }
   ],
   "source": [
    "w=[-2.0, 0.4, 0.1]\n",
    "\n",
    "nx=np.arange(-2,12,0.5)\n",
    "#ax+by+c=0\n",
    "ny=-(w[1]*nx+w[0])/w[2]\n",
    "\n",
    "plt.scatter(X[:,0],X[:, 1],marker='o', c=y, cmap='jet')  \n",
    "plt.plot(nx, ny )  \n",
    "plt.show()"
   ]
  },
  {
   "cell_type": "markdown",
   "metadata": {},
   "source": [
    "<b>Second Task: Update check</b>\n",
    "Let's choose a missclassified data,  $rx=[1, 4,6], ry=-1$ <br>\n",
    "Update rule: $w=w+ \\eta(ry*rx)$  <br>\n",
    "Where, learning rate $0> \\eta \\leq 1$ <br>\n",
    "Let, $\\eta=0.1$  <br>\n",
    "* update w for the data. w should be [-2.1,  0. , -0.5]"
   ]
  },
  {
   "cell_type": "code",
   "execution_count": 8,
   "metadata": {},
   "outputs": [
    {
     "name": "stdout",
     "output_type": "stream",
     "text": [
      "[-2.1  0.  -0.5]\n"
     ]
    }
   ],
   "source": [
    "\n",
    "Rx = np.array([1, 4, 6])\n",
    "Ry = -1\n",
    "\n",
    "L_rate = 0.1\n",
    "# Update rule, w = w+(Rx*Ry)\n",
    "w = w-(L_rate*Rx)   # Where Ry = -1\n",
    "\n",
    "print(w)"
   ]
  },
  {
   "cell_type": "markdown",
   "metadata": {},
   "source": [
    "<b>Third Task: Train perceptron</b> <br>\n",
    "\n",
    "* your task is to implement perceptron learning algorithm. Your implementation should correctly classify the data above. <br>\n",
    "* Print the trained W <br>\n",
    "* Plot the data and the decision boundary <br>\n",
    "* Average Loss $loss=\\frac{1}{N} \\sum(y-\\hat y)^2$\n",
    "* Plot loss history."
   ]
  },
  {
   "cell_type": "code",
   "execution_count": 9,
   "metadata": {},
   "outputs": [],
   "source": [
    "x = np.array(XX)\n",
    "Avg_los = []"
   ]
  },
  {
   "cell_type": "code",
   "execution_count": 10,
   "metadata": {},
   "outputs": [],
   "source": [
    "def lin_reg(x, w):\n",
    "    val = 0\n",
    "    for i,j in zip(x, w):\n",
    "        val+=i*j\n",
    "    return val"
   ]
  },
  {
   "cell_type": "code",
   "execution_count": 11,
   "metadata": {},
   "outputs": [],
   "source": [
    "def given_sign(val):\n",
    "    return np.sign(val)"
   ]
  },
  {
   "cell_type": "code",
   "execution_count": 12,
   "metadata": {},
   "outputs": [],
   "source": [
    "def predict(x, w):\n",
    "    hypo = []\n",
    "    for i in x:\n",
    "        lin = lin_reg(i, w)\n",
    "        hp = given_sign(lin)\n",
    "        hypo.append(hp)\n",
    "        #print(hypo)\n",
    "    return hypo"
   ]
  },
  {
   "cell_type": "code",
   "execution_count": 13,
   "metadata": {},
   "outputs": [],
   "source": [
    "def miss_class(py, y):\n",
    "    miss = []\n",
    "    los = 0\n",
    "    for i in range(len(y)):\n",
    "        los+=((y[i]-py[i])**2)\n",
    "        if py[i] != y[i]:\n",
    "            miss.append(i)\n",
    "    Avg_los.append(los/len(y))\n",
    "    #print(Avg_los)\n",
    "    return miss"
   ]
  },
  {
   "cell_type": "code",
   "execution_count": 14,
   "metadata": {},
   "outputs": [],
   "source": [
    "def perceptron(x, y):\n",
    "    w = np.array([-2.0, 0.4, 0.1])\n",
    "    # print(w)\n",
    "    L_rate = 0.1\n",
    "    py = predict(x, w)\n",
    "    #print(py)\n",
    "    miss = miss_class(py, y)\n",
    "    #print(miss)\n",
    "    \n",
    "    while len(miss)>0:\n",
    "        rnd=np.random.choice(miss)\n",
    "        #print(rnd)\n",
    "        \n",
    "        Rx = x[rnd]\n",
    "        #print(rx)\n",
    "        \n",
    "        Ry = y[rnd]\n",
    "        #print(ry)\n",
    "        \n",
    "        w = w+L_rate*(Rx*Ry)\n",
    "        #print(w)\n",
    "        \n",
    "        py = predict(x, w)\n",
    "        #print(py)\n",
    "        \n",
    "        miss = miss_class(py, y)\n",
    "        \n",
    "    return w"
   ]
  },
  {
   "cell_type": "code",
   "execution_count": 15,
   "metadata": {},
   "outputs": [
    {
     "name": "stdout",
     "output_type": "stream",
     "text": [
      "[-3.1  0.2  0.3]\n"
     ]
    }
   ],
   "source": [
    "w = perceptron(x, y)\n",
    "print(w)"
   ]
  },
  {
   "cell_type": "code",
   "execution_count": 16,
   "metadata": {},
   "outputs": [
    {
     "data": {
      "image/png": "[encoded data removed]",
      "text/plain": [
       "<Figure size 432x288 with 1 Axes>"
      ]
     },
     "metadata": {
      "needs_background": "light"
     },
     "output_type": "display_data"
    }
   ],
   "source": [
    "nx = np.array(X)\n",
    "#ax+by+c=0\n",
    "ny=-(w[1]*nx+w[0])/w[2]\n",
    "\n",
    "plt.scatter(X[:,0],X[:, 1],marker='o', c=y, cmap='jet')  \n",
    "plt.plot(nx, ny )  \n",
    "plt.show()"
   ]
  },
  {
   "cell_type": "code",
   "execution_count": 17,
   "metadata": {},
   "outputs": [
    {
     "data": {
      "image/png": "[encoded data removed]",
      "text/plain": [
       "<Figure size 432x288 with 1 Axes>"
      ]
     },
     "metadata": {
      "needs_background": "light"
     },
     "output_type": "display_data"
    }
   ],
   "source": [
    "# Plot Avarage Loss\n",
    "\n",
    "plt.plot(Avg_los)\n",
    "plt.show()"
   ]
  },
  {
   "cell_type": "markdown",
   "metadata": {},
   "source": [
    "<b>Fourth Task: Train a perceptron on Iris Data</b>\n",
    "* First 100 data will be used.\n",
    "* Only the first two features will be used for this task.\n",
    "\n",
    "* Your implementation should correctly classify all the data.\n",
    "* Plot the prediction, decision and loss history."
   ]
  },
  {
   "cell_type": "code",
   "execution_count": 20,
   "metadata": {},
   "outputs": [],
   "source": [
    "from sklearn import datasets"
   ]
  },
  {
   "cell_type": "code",
   "execution_count": 21,
   "metadata": {},
   "outputs": [
    {
     "name": "stdout",
     "output_type": "stream",
     "text": [
      "X: (100, 2)   y: (100,)\n"
     ]
    }
   ],
   "source": [
    "datas=datasets.load_iris()\n",
    "X=datas['data'][:100]      #first two class only.\n",
    "y=datas['target'][:100]\n",
    "# print(X.shape, y.shape)\n",
    "\n",
    "X=X[:,:2]  #first two column.\n",
    "print('X:',X.shape, '  y:',y.shape)\n",
    "\n",
    "#print(y)"
   ]
  },
  {
   "cell_type": "code",
   "execution_count": 22,
   "metadata": {},
   "outputs": [
    {
     "data": {
      "image/png": "[encoded data removed]",
      "text/plain": [
       "<Figure size 432x288 with 1 Axes>"
      ]
     },
     "metadata": {
      "needs_background": "light"
     },
     "output_type": "display_data"
    }
   ],
   "source": [
    "plt.scatter(X[:,0], X[:,1], c=y, cmap='jet') \n",
    "plt.show()"
   ]
  },
  {
   "cell_type": "code",
   "execution_count": 23,
   "metadata": {},
   "outputs": [
    {
     "name": "stdout",
     "output_type": "stream",
     "text": [
      "(100, 3)\n"
     ]
    }
   ],
   "source": [
    "XX = np.c_[np.ones(X.shape[0]), X]\n",
    "x = np.array(XX)\n",
    "Avg_los = []\n",
    "\n",
    "print(x.shape)"
   ]
  },
  {
   "cell_type": "code",
   "execution_count": 24,
   "metadata": {},
   "outputs": [],
   "source": [
    "def lin_reg(x, w):\n",
    "    val = 0\n",
    "    for i,j in zip(x, w):\n",
    "        val+=i*j\n",
    "    return val"
   ]
  },
  {
   "cell_type": "code",
   "execution_count": 25,
   "metadata": {},
   "outputs": [],
   "source": [
    "def given_sign(val):\n",
    "    return np.sign(val)"
   ]
  },
  {
   "cell_type": "code",
   "execution_count": 26,
   "metadata": {},
   "outputs": [],
   "source": [
    "def predict(x, w):\n",
    "    hypo = []\n",
    "    for i in x:\n",
    "        lin = lin_reg(i, w)\n",
    "        hp = given_sign(lin)\n",
    "        hypo.append(hp)\n",
    "        #print(hypo)\n",
    "    return hypo"
   ]
  },
  {
   "cell_type": "code",
   "execution_count": 27,
   "metadata": {},
   "outputs": [],
   "source": [
    "def predict(x, w):\n",
    "    hypo = []\n",
    "    for i in x:\n",
    "        lin = lin_reg(i, w)\n",
    "        hp = given_sign(lin)\n",
    "        hypo.append(hp)\n",
    "        #print(hypo)\n",
    "    return hypo"
   ]
  },
  {
   "cell_type": "code",
   "execution_count": 28,
   "metadata": {},
   "outputs": [],
   "source": [
    "def miss_class(py, y):\n",
    "    miss = []\n",
    "    los = 0\n",
    "    for i in range(len(y)):\n",
    "        los+=((y[i]-py[i])**2)\n",
    "        if py[i] != y[i]:\n",
    "            miss.append(i)\n",
    "    Avg_los.append(los/len(y))\n",
    "    #print(Avg_los)\n",
    "    return miss"
   ]
  },
  {
   "cell_type": "code",
   "execution_count": 29,
   "metadata": {},
   "outputs": [],
   "source": [
    "def perceptron(x, y):\n",
    "    w = np.random.rand(3)\n",
    "    # print(w)\n",
    "    L_rate = 0.1\n",
    "    py = predict(x, w)\n",
    "    #print(py)\n",
    "    miss = miss_class(py, y)\n",
    "    #print(miss)\n",
    "    \n",
    "    while len(miss) > 0:\n",
    "        rnd=np.random.choice(miss)\n",
    "        #print(rnd)\n",
    "        \n",
    "        Rx = x[rnd]\n",
    "        #print(rx)\n",
    "        \n",
    "        Ry = y[rnd]\n",
    "        #print(ry)\n",
    "        \n",
    "        w = w+L_rate*(Rx*Ry)\n",
    "        #print(w)\n",
    "        \n",
    "        py = predict(x, w)\n",
    "        #print(py)\n",
    "        \n",
    "        miss = miss_class(py, y)\n",
    "        \n",
    "    return w"
   ]
  },
  {
   "cell_type": "code",
   "execution_count": 30,
   "metadata": {},
   "outputs": [
    {
     "name": "stdout",
     "output_type": "stream",
     "text": [
      "[-10.94657496   6.75582556  -8.51057726]\n"
     ]
    }
   ],
   "source": [
    "for i in range(len(y)):\n",
    "    if y[i] == 0:\n",
    "        y[i] = -1  # Change level where y=0 to -1\n",
    "        \n",
    "w = perceptron(x, y)\n",
    "print(w)"
   ]
  },
  {
   "cell_type": "code",
   "execution_count": 31,
   "metadata": {},
   "outputs": [
    {
     "data": {
      "image/png": "[encoded data removed]",
      "text/plain": [
       "<Figure size 432x288 with 1 Axes>"
      ]
     },
     "metadata": {
      "needs_background": "light"
     },
     "output_type": "display_data"
    }
   ],
   "source": [
    "nx = np.array(X)\n",
    "#ax+by+c=0\n",
    "ny=-(w[1]*nx+w[0])/w[2]\n",
    "\n",
    "plt.scatter(X[:,0],X[:, 1],marker='o', c=y, cmap='jet')\n",
    "plt.plot(nx, ny )\n",
    "plt.show()"
   ]
  },
  {
   "cell_type": "code",
   "execution_count": 32,
   "metadata": {},
   "outputs": [
    {
     "data": {
      "image/png": "[encoded data removed]",
      "text/plain": [
       "<Figure size 432x288 with 1 Axes>"
      ]
     },
     "metadata": {
      "needs_background": "light"
     },
     "output_type": "display_data"
    }
   ],
   "source": [
    "# Plot Avarage Loss\n",
    "\n",
    "plt.plot(Avg_los)\n",
    "plt.show()"
   ]
  },
  {
   "cell_type": "code",
   "execution_count": null,
   "metadata": {},
   "outputs": [],
   "source": []
  }
 ],
 "metadata": {
  "kernelspec": {
   "display_name": "Python 3",
   "language": "python",
   "name": "python3"
  },
  "language_info": {
   "codemirror_mode": {
    "name": "ipython",
    "version": 3
   },
   "file_extension": ".py",
   "mimetype": "text/x-python",
   "name": "python",
   "nbconvert_exporter": "python",
   "pygments_lexer": "ipython3",
   "version": "3.7.7"
  }
 },
 "nbformat": 4,
 "nbformat_minor": 4
}

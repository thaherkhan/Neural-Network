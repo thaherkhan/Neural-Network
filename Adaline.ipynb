{
 "cells": [
  {
   "cell_type": "markdown",
   "metadata": {},
   "source": [
    "# Train ADALINE on IRIS data"
   ]
  },
  {
   "cell_type": "code",
   "execution_count": 1,
   "metadata": {},
   "outputs": [],
   "source": [
    "from sklearn import datasets\n",
    "import numpy as np  \n",
    "import matplotlib.pyplot as plt "
   ]
  },
  {
   "cell_type": "code",
   "execution_count": 2,
   "metadata": {},
   "outputs": [
    {
     "name": "stdout",
     "output_type": "stream",
     "text": [
      "X: (100, 2)   y: (100,)\n"
     ]
    }
   ],
   "source": [
    "datas=datasets.load_iris()\n",
    "X=datas['data'][:100]      #first two class only.\n",
    "y=datas['target'][:100]\n",
    "# print(X.shape, y.shape)\n",
    "\n",
    "X=X[:,:2]  #first two column.\n",
    "\n",
    "# Standardize the data \n",
    "X=(X-X.mean(axis=0))/X.std(axis=0)\n",
    "# y=y.reshape(-1,1)\n",
    "print('X:',X.shape, '  y:',y.shape)"
   ]
  },
  {
   "cell_type": "code",
   "execution_count": 3,
   "metadata": {},
   "outputs": [
    {
     "name": "stdout",
     "output_type": "stream",
     "text": [
      "[-1 -1 -1 -1 -1 -1 -1 -1 -1 -1 -1 -1 -1 -1 -1 -1 -1 -1 -1 -1 -1 -1 -1 -1\n",
      " -1 -1 -1 -1 -1 -1 -1 -1 -1 -1 -1 -1 -1 -1 -1 -1 -1 -1 -1 -1 -1 -1 -1 -1\n",
      " -1 -1  1  1  1  1  1  1  1  1  1  1  1  1  1  1  1  1  1  1  1  1  1  1\n",
      "  1  1  1  1  1  1  1  1  1  1  1  1  1  1  1  1  1  1  1  1  1  1  1  1\n",
      "  1  1  1  1]\n"
     ]
    }
   ],
   "source": [
    "y[y==0]=-1\n",
    "print(y)"
   ]
  },
  {
   "cell_type": "code",
   "execution_count": 4,
   "metadata": {},
   "outputs": [
    {
     "data": {
      "image/png": "[encoded data removed]",
      "text/plain": [
       "<Figure size 432x288 with 1 Axes>"
      ]
     },
     "metadata": {
      "needs_background": "light"
     },
     "output_type": "display_data"
    }
   ],
   "source": [
    "plt.scatter(X[:,0], X[:,1], c=y, cmap='jet') \n",
    "plt.show()"
   ]
  },
  {
   "cell_type": "code",
   "execution_count": 5,
   "metadata": {},
   "outputs": [
    {
     "name": "stdout",
     "output_type": "stream",
     "text": [
      "Data shape: (100, 3)\n",
      "First five data\n",
      " [[ 1.         -0.5810659   0.84183714]\n",
      " [ 1.         -0.89430898 -0.2078351 ]\n",
      " [ 1.         -1.20755205  0.21203379]\n",
      " [ 1.         -1.36417359  0.00209934]\n",
      " [ 1.         -0.73768744  1.05177159]]\n"
     ]
    }
   ],
   "source": [
    "#don't run this cell twice because each time it adds a column full of 1\n",
    "X=np.c_[np.ones(X.shape[0]), X]  #adding a 1 in the first column to alleviate use of bias. \n",
    "print('Data shape:',X.shape)\n",
    "print('First five data\\n',X[:5])"
   ]
  },
  {
   "cell_type": "markdown",
   "metadata": {},
   "source": [
    "<b>Theory</b> <br>\n",
    "Let, y=target class, $y_{in}$=preactivation outptu, X= input vectors, w= weights\n",
    " \n",
    "Let, <br>\n",
    "y: Nx1 <br>\n",
    "X: NxD<br>\n",
    "w: 1xD<br>\n",
    "yin: w.X^T => (1xD).(DxN)=>(1xN)<br>\n",
    "dw: (1xN) <br>\n",
    "dw.X: (1xN).(NxD):1xD "
   ]
  },
  {
   "cell_type": "markdown",
   "metadata": {},
   "source": [
    "<b>First Task: Output calculation</b>\n",
    "net output (preactivation)\n",
    "$$y_{in}=w.X^T$$\n",
    "\n",
    "Let, w=np.array( [ 0.3, 0.1, -0.4] )<br>\n",
    "First five values should be close to the following<br>\n",
    "[-0.09484145,  0.29370314,  0.09443128,  0.1627429 , -0.19447738]"
   ]
  },
  {
   "cell_type": "code",
   "execution_count": 6,
   "metadata": {},
   "outputs": [
    {
     "name": "stdout",
     "output_type": "stream",
     "text": [
      "[-0.09484145  0.29370314  0.09443128  0.1627429  -0.19447738]\n"
     ]
    }
   ],
   "source": [
    "w=np.array([0.3,0.1,-0.4])\n",
    "x=np.transpose(X)\n",
    "y_in=np.dot(w,x)\n",
    "print(y_in[:5])"
   ]
  },
  {
   "cell_type": "markdown",
   "metadata": {},
   "source": [
    "<b>Second Task: Update</b>\n",
    "update rule.\n",
    "$$w :=w+ \\eta(y-y_{in})X/N $$\n",
    "which can be written as,<br>\n",
    "$$dw= y-y_{in} $$\n",
    "$$w :=w+ \\eta(dw.X)/N $$\n",
    "\n",
    "Let, eta=0.01<br>\n",
    "Updated w should like below<br>\n",
    "w=[ 2.22044605e-16,  6.45919846e-01, -6.70091761e-01]"
   ]
  },
  {
   "cell_type": "code",
   "execution_count": 7,
   "metadata": {},
   "outputs": [
    {
     "name": "stdout",
     "output_type": "stream",
     "text": [
      "[ 2.34187669e-16  6.45919846e-01 -6.70091761e-01]\n"
     ]
    }
   ],
   "source": [
    "\n",
    "eta=0.01\n",
    "ln=len(y)\n",
    "for i in range(ln):\n",
    "    dw=y[i]-y_in[i]\n",
    "    w+=(eta*(dw*X[i]))\n",
    "    \n",
    "print(w)"
   ]
  },
  {
   "cell_type": "markdown",
   "metadata": {},
   "source": [
    "<b>Third Task: calculate loss</b>\n",
    "$$E=(y-y_{in})^2$$\n",
    "\n",
    "Output should look like or close to 0.5782685616058213"
   ]
  },
  {
   "cell_type": "code",
   "execution_count": 8,
   "metadata": {},
   "outputs": [
    {
     "name": "stdout",
     "output_type": "stream",
     "text": [
      "0.578268561605821\n"
     ]
    }
   ],
   "source": [
    "\n",
    "E=0\n",
    "for i in range(len(y)):\n",
    "    E+=(y[i]-y_in[i])**2\n",
    "    \n",
    "print(E/len(y)) "
   ]
  },
  {
   "cell_type": "markdown",
   "metadata": {},
   "source": [
    "<b>Fourth Task: Train Adaline</b>\n",
    "\n",
    "Algorithm.<br>\n",
    "Choose learning rate eta=0.01 (try with different values)<br>\n",
    "w=randomly initialize<br>\n",
    "Repeat the following steps (1,2,3) for n time. Let, say n=1000<br>\n",
    "1. calculate yin for all the data.\n",
    "2. $dw=(y-y_{in})$\n",
    "3. update w. $w :=w+ \\eta (dw.x)/N $\n",
    "4. calculate and record loss\n",
    "\n",
    "Finally,\n",
    "print w<br>\n",
    "Plot loss<br>\n",
    "Adjust number epoch and re-train<br>\n",
    "classify all the data  $yout=sign(w.X^T)$<br>\n",
    "plot decision boundary <br>\n",
    "Calculate accuracy."
   ]
  },
  {
   "cell_type": "code",
   "execution_count": 9,
   "metadata": {},
   "outputs": [
    {
     "name": "stdout",
     "output_type": "stream",
     "text": [
      "[ 2.36703018e-15  6.12013126e-01 -5.64655071e-01]\n"
     ]
    }
   ],
   "source": [
    "\n",
    "eta=0.01\n",
    "w=np.random.random_sample((3,))\n",
    "loss=[]\n",
    "\n",
    "for i in range(10000):\n",
    "    x=np.transpose(X)\n",
    "    y_in=np.dot(w,x)\n",
    "    #print(y_in[:5])\n",
    "\n",
    "    for j in range(len(X)):\n",
    "        dw=y[j]-y_in[j]\n",
    "        w+=(eta*(dw*X[j]))\n",
    "    #print(w)\n",
    "\n",
    "    E=0\n",
    "    for k in range(len(X)):\n",
    "        E+=(y[k]-y_in[k])**2\n",
    "    E/=len(X)\n",
    "    loss.append(E)\n",
    "    \n",
    "#print(E/len(y))\n",
    "print(w)"
   ]
  },
  {
   "cell_type": "code",
   "execution_count": 10,
   "metadata": {},
   "outputs": [
    {
     "data": {
      "image/png": "[encoded data removed]",
      "text/plain": [
       "<Figure size 432x288 with 1 Axes>"
      ]
     },
     "metadata": {
      "needs_background": "light"
     },
     "output_type": "display_data"
    }
   ],
   "source": [
    "plt.plot(loss)\n",
    "plt.show()"
   ]
  },
  {
   "cell_type": "code",
   "execution_count": 11,
   "metadata": {},
   "outputs": [],
   "source": [
    "def sign(val):\n",
    "    for i in range(len(val)):\n",
    "        if(val[i]<0):\n",
    "            val[i]=-1\n",
    "        else:\n",
    "            val[i]=1\n",
    "    return val"
   ]
  },
  {
   "cell_type": "code",
   "execution_count": 12,
   "metadata": {},
   "outputs": [
    {
     "name": "stdout",
     "output_type": "stream",
     "text": [
      "[-1. -1. -1. -1. -1. -1. -1. -1. -1. -1. -1. -1. -1. -1. -1. -1. -1. -1.\n",
      " -1. -1. -1. -1. -1. -1. -1. -1. -1. -1. -1. -1. -1. -1. -1. -1. -1. -1.\n",
      " -1. -1. -1. -1. -1.  1. -1. -1. -1. -1. -1. -1. -1. -1.  1.  1.  1.  1.\n",
      "  1.  1.  1.  1.  1.  1.  1.  1.  1.  1.  1.  1.  1.  1.  1.  1.  1.  1.\n",
      "  1.  1.  1.  1.  1.  1.  1.  1.  1.  1.  1.  1.  1.  1.  1.  1.  1.  1.\n",
      "  1.  1.  1.  1.  1.  1.  1.  1.  1.  1.]\n"
     ]
    }
   ],
   "source": [
    "y_out=np.dot(w,x)\n",
    "#print(y_out)\n",
    "y_out=sign(y_out)\n",
    "print(y_out)"
   ]
  },
  {
   "cell_type": "code",
   "execution_count": 13,
   "metadata": {},
   "outputs": [
    {
     "name": "stdout",
     "output_type": "stream",
     "text": [
      "Accuracy :  99.0 %\n"
     ]
    }
   ],
   "source": [
    "coun=0\n",
    "for i in range(len(y)):\n",
    "    if(y[i]==y_out[i]):\n",
    "        coun+=1\n",
    "accu=coun/100\n",
    "print('Accuracy : ',accu*100,'%')"
   ]
  },
  {
   "cell_type": "code",
   "execution_count": 14,
   "metadata": {},
   "outputs": [
    {
     "data": {
      "image/png": "[encoded data removed]",
      "text/plain": [
       "<Figure size 432x288 with 1 Axes>"
      ]
     },
     "metadata": {
      "needs_background": "light"
     },
     "output_type": "display_data"
    }
   ],
   "source": [
    "plt.scatter(X[:,1],X[:,2], c=y_out, cmap='jet') \n",
    "plt.show()"
   ]
  },
  {
   "cell_type": "markdown",
   "metadata": {},
   "source": [
    "<b>Fifth Task: plot decision boundary</b>"
   ]
  },
  {
   "cell_type": "code",
   "execution_count": 16,
   "metadata": {},
   "outputs": [
    {
     "data": {
      "text/plain": [
       "(490000, 3)"
      ]
     },
     "execution_count": 16,
     "metadata": {},
     "output_type": "execute_result"
    }
   ],
   "source": [
    "xd=np.arange(-3, 3+1, 0.01)\n",
    "yd=np.arange(-3,3+1, 0.01)\n",
    "xx,yy=np.meshgrid(xd,yd)\n",
    "nx=np.array([xx.flatten(), yy.flatten()]).T\n",
    "nx=np.c_[np.ones(nx.shape[0]), nx]\n",
    "nx.shape"
   ]
  },
  {
   "cell_type": "code",
   "execution_count": 17,
   "metadata": {},
   "outputs": [
    {
     "name": "stdout",
     "output_type": "stream",
     "text": [
      "[-1. -1. -1. ...  1.  1.  1.]\n"
     ]
    }
   ],
   "source": [
    "#classify all the data (nx) \n",
    "out=np.dot(nx,w)\n",
    "out=np.sign(out)\n",
    "print(out)"
   ]
  },
  {
   "cell_type": "code",
   "execution_count": 18,
   "metadata": {},
   "outputs": [
    {
     "data": {
      "image/png": "[encoded data removed]",
      "text/plain": [
       "<Figure size 432x288 with 1 Axes>"
      ]
     },
     "metadata": {
      "needs_background": "light"
     },
     "output_type": "display_data"
    }
   ],
   "source": [
    "out=out.reshape(xx.shape) \n",
    "plt.contourf(xx, yy, out, alpha=0.7 )\n",
    "plt.scatter(X[:,1],X[:, 2],marker='o', c=y, cmap='jet') \n",
    "plt.show()"
   ]
  },
  {
   "cell_type": "code",
   "execution_count": null,
   "metadata": {},
   "outputs": [],
   "source": []
  }
 ],
 "metadata": {
  "kernelspec": {
   "display_name": "Python 3",
   "language": "python",
   "name": "python3"
  },
  "language_info": {
   "codemirror_mode": {
    "name": "ipython",
    "version": 3
   },
   "file_extension": ".py",
   "mimetype": "text/x-python",
   "name": "python",
   "nbconvert_exporter": "python",
   "pygments_lexer": "ipython3",
   "version": "3.7.7"
  }
 },
 "nbformat": 4,
 "nbformat_minor": 4
}
